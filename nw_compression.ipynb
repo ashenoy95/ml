{
 "cells": [
  {
   "cell_type": "code",
   "execution_count": 1,
   "metadata": {
    "collapsed": true
   },
   "outputs": [],
   "source": [
    "%matplotlib inline\n",
    "from set_gpu import *\n",
    "import tensorflow as tf\n",
    "import matplotlib.pyplot as plt\n",
    "import numpy as np"
   ]
  },
  {
   "cell_type": "code",
   "execution_count": 2,
   "metadata": {},
   "outputs": [
    {
     "name": "stdout",
     "output_type": "stream",
     "text": [
      "Extracting data/MNIST_data/train-images-idx3-ubyte.gz\n",
      "Extracting data/MNIST_data/train-labels-idx1-ubyte.gz\n",
      "Extracting data/MNIST_data/t10k-images-idx3-ubyte.gz\n",
      "Extracting data/MNIST_data/t10k-labels-idx1-ubyte.gz\n"
     ]
    }
   ],
   "source": [
    "from tensorflow.examples.tutorials.mnist import input_data\n",
    "mnist = input_data.read_data_sets('data/MNIST_data/', one_hot=True)"
   ]
  },
  {
   "cell_type": "code",
   "execution_count": 3,
   "metadata": {
    "collapsed": true
   },
   "outputs": [],
   "source": [
    "# set model math to save/resotre\n",
    "model_path = \"models/mnist-shallow/model2.ckpt\"\n",
    "\n",
    "hidden_units = 1024\n",
    "x = tf.placeholder(tf.float32, [None, 784], name='x')\n",
    "y_ = tf.placeholder(tf.float32, [None, 10], name='y_')\n",
    "weights = {\n",
    "    'h1': tf.Variable(tf.random_normal([784, hidden_units], stddev=tf.sqrt(2/(784+hidden_units)), mean=0)),\n",
    "    'h2': tf.Variable(tf.random_normal([hidden_units, hidden_units], stddev=tf.sqrt(1/hidden_units), mean=0)),\n",
    "    'h3': tf.Variable(tf.random_normal([hidden_units, hidden_units], stddev=tf.sqrt(1/hidden_units), mean=0)),\n",
    "    'h4': tf.Variable(tf.random_normal([hidden_units, hidden_units], stddev=tf.sqrt(1/hidden_units), mean=0)),\n",
    "    'h5': tf.Variable(tf.random_normal([hidden_units, hidden_units], stddev=tf.sqrt(1/hidden_units), mean=0)),\n",
    "    'y': tf.Variable(tf.random_normal([hidden_units, 10], stddev=tf.sqrt(2/(hidden_units+10)), mean=0))\n",
    "} # xavier init\n",
    "biases = {\n",
    "    'b1': tf.Variable(tf.zeros([hidden_units])),\n",
    "    'b2': tf.Variable(tf.zeros([hidden_units])),\n",
    "    'b3': tf.Variable(tf.zeros([hidden_units])),\n",
    "    'b4': tf.Variable(tf.zeros([hidden_units])),\n",
    "    'b5': tf.Variable(tf.zeros([hidden_units])),\n",
    "    'y': tf.Variable(tf.zeros([10]))\n",
    "}\n",
    "\n",
    "# for batch norm\n",
    "epsilon = 1e-3 # a small float to avoid div by 0\n",
    "scale = tf.ones([hidden_units])\n",
    "beta = tf.zeros([hidden_units]) # offset"
   ]
  },
  {
   "cell_type": "code",
   "execution_count": 4,
   "metadata": {
    "collapsed": true
   },
   "outputs": [],
   "source": [
    "# linear combination -> batch_norm -> activation -> dropout\n",
    "\n",
    "hidden_1 = tf.nn.relu(tf.matmul(x, weights['h1']) + biases['b1'])\n",
    "#batch_mean, batch_var = tf.nn.moments(hidden_1, [0])\n",
    "#batch_norm_1 = tf.nn.batch_normalization(hidden_1, batch_mean, batch_var, None, None, epsilon)\n",
    "#dropout_1 = tf.nn.dropout(tf.nn.relu(batch_norm_1), .4)    \n",
    "\n",
    "hidden_2 = tf.nn.relu(tf.matmul(hidden_1, weights['h2']) + biases['b2'])\n",
    "#batch_mean, batch_var = tf.nn.moments(hidden_2, [0])\n",
    "#batch_norm_2 = tf.nn.batch_normalization(hidden_2, batch_mean, batch_var, None, None, epsilon)\n",
    "#dropout_2 = tf.nn.dropout(tf.nn.relu(batch_norm_2), .4) \n",
    "\n",
    "hidden_3 = tf.nn.relu(tf.matmul(hidden_2, weights['h3']) + biases['b3'])\n",
    "#batch_mean, batch_var = tf.nn.moments(hidden_3, [0])\n",
    "#batch_norm_3 = tf.nn.batch_normalization(hidden_3, batch_mean, batch_var, None, None, epsilon)\n",
    "#dropout_3 = tf.nn.dropout(tf.nn.relu(batch_norm_3), .4) \n",
    "\n",
    "hidden_4 = tf.nn.relu(tf.matmul(hidden_3, weights['h4']) + biases['b4'])\n",
    "#batch_mean, batch_var = tf.nn.moments(hidden_4, [0])\n",
    "#batch_norm_4 = tf.nn.batch_normalization(hidden_4, batch_mean, batch_var, None, None, epsilon)\n",
    "#dropout_4 = tf.nn.dropout(tf.nn.relu(batch_norm_4), .4) \n",
    "\n",
    "hidden_5 = tf.nn.relu(tf.matmul(hidden_4, weights['h5']) + biases['b5'])\n",
    "#batch_mean, batch_var = tf.nn.moments(hidden_5, [0])\n",
    "#batch_norm_5 = tf.nn.batch_normalization(hidden_5, batch_mean, batch_var, None, None, epsilon)\n",
    "#dropout_5 = tf.nn.dropout(tf.nn.relu(batch_norm_5), .4) \n",
    "\n",
    "y = tf.matmul(hidden_5, weights['y']) + biases['y']"
   ]
  },
  {
   "cell_type": "code",
   "execution_count": 5,
   "metadata": {
    "collapsed": true
   },
   "outputs": [],
   "source": [
    "cross_entropy = tf.reduce_mean(tf.nn.softmax_cross_entropy_with_logits_v2(logits=y, labels=y_))\n",
    "train_step = tf.train.AdamOptimizer(.0001).minimize(cross_entropy)"
   ]
  },
  {
   "cell_type": "code",
   "execution_count": 6,
   "metadata": {
    "collapsed": true
   },
   "outputs": [],
   "source": [
    "init = tf.global_variables_initializer()"
   ]
  },
  {
   "cell_type": "code",
   "execution_count": 7,
   "metadata": {
    "collapsed": true
   },
   "outputs": [],
   "source": [
    "# saver obj to save/retrieve model\n",
    "saver = tf.train.Saver() "
   ]
  },
  {
   "cell_type": "code",
   "execution_count": 13,
   "metadata": {
    "collapsed": true
   },
   "outputs": [],
   "source": [
    "sess = tf.Session(config=config)\n",
    "sess.run(init)"
   ]
  },
  {
   "cell_type": "code",
   "execution_count": 14,
   "metadata": {
    "collapsed": true,
    "scrolled": true
   },
   "outputs": [],
   "source": [
    "# train func\n",
    "\n",
    "def train(mnist, sess, train_step, cross_entropy):\n",
    "    i = 550\n",
    "    epochs = 50\n",
    "    display_step = 1\n",
    "\n",
    "    for epoch in range(epochs):\n",
    "        avg_cost = 0\n",
    "        for _ in range(i):\n",
    "            batch_xs, batch_ys = mnist.train.next_batch(100)\n",
    "            _, cost = sess.run([train_step, cross_entropy], feed_dict={'x:0': batch_xs, 'y_:0': batch_ys})\n",
    "            avg_cost += cost/i\n",
    "        if epoch%display_step==0:\n",
    "            print(\"Epoch:\", '%02d'%(epoch+1), \"\\tcost={:.9f}\".format(avg_cost))"
   ]
  },
  {
   "cell_type": "code",
   "execution_count": 15,
   "metadata": {
    "scrolled": true
   },
   "outputs": [
    {
     "name": "stdout",
     "output_type": "stream",
     "text": [
      "Epoch: 01 \tcost=0.308158701\n",
      "Epoch: 02 \tcost=0.104051820\n",
      "Epoch: 03 \tcost=0.064420025\n",
      "Epoch: 04 \tcost=0.041513531\n",
      "Epoch: 05 \tcost=0.028730659\n",
      "Epoch: 06 \tcost=0.019593434\n",
      "Epoch: 07 \tcost=0.016509421\n",
      "Epoch: 08 \tcost=0.011214017\n",
      "Epoch: 09 \tcost=0.012797758\n",
      "Epoch: 10 \tcost=0.009444008\n",
      "Epoch: 11 \tcost=0.009825363\n",
      "Epoch: 12 \tcost=0.007510452\n",
      "Epoch: 13 \tcost=0.009674547\n",
      "Epoch: 14 \tcost=0.007070621\n",
      "Epoch: 15 \tcost=0.008752603\n",
      "Epoch: 16 \tcost=0.005820285\n",
      "Epoch: 17 \tcost=0.006214108\n",
      "Epoch: 18 \tcost=0.003818299\n",
      "Epoch: 19 \tcost=0.008404477\n",
      "Epoch: 20 \tcost=0.005452839\n",
      "Epoch: 21 \tcost=0.004848849\n",
      "Epoch: 22 \tcost=0.008018450\n",
      "Epoch: 23 \tcost=0.002518609\n",
      "Epoch: 24 \tcost=0.002082388\n",
      "Epoch: 25 \tcost=0.008568506\n",
      "Epoch: 26 \tcost=0.003341781\n",
      "Epoch: 27 \tcost=0.006861400\n",
      "Epoch: 28 \tcost=0.003680519\n",
      "Epoch: 29 \tcost=0.003584975\n",
      "Epoch: 30 \tcost=0.003585211\n",
      "Epoch: 31 \tcost=0.003785598\n",
      "Epoch: 32 \tcost=0.005266891\n",
      "Epoch: 33 \tcost=0.002438171\n",
      "Epoch: 34 \tcost=0.004274180\n",
      "Epoch: 35 \tcost=0.003406585\n",
      "Epoch: 36 \tcost=0.004417368\n",
      "Epoch: 37 \tcost=0.001154811\n",
      "Epoch: 38 \tcost=0.000765570\n",
      "Epoch: 39 \tcost=0.000143267\n",
      "Epoch: 40 \tcost=0.000012292\n",
      "Epoch: 41 \tcost=0.000006502\n",
      "Epoch: 42 \tcost=0.000004339\n",
      "Epoch: 43 \tcost=0.000003020\n",
      "Epoch: 44 \tcost=0.000002129\n",
      "Epoch: 45 \tcost=0.000001509\n",
      "Epoch: 46 \tcost=0.000001072\n",
      "Epoch: 47 \tcost=0.000000760\n",
      "Epoch: 48 \tcost=0.000000537\n",
      "Epoch: 49 \tcost=0.000000379\n",
      "Epoch: 50 \tcost=0.000000268\n"
     ]
    }
   ],
   "source": [
    "train(mnist, sess, train_step, cross_entropy)"
   ]
  },
  {
   "cell_type": "code",
   "execution_count": 11,
   "metadata": {
    "collapsed": true
   },
   "outputs": [],
   "source": [
    "# test func\n",
    "\n",
    "def test(y, y_, mnist):\n",
    "    correct_prediction = tf.equal(tf.argmax(y, 1), tf.argmax(y_, 1))\n",
    "    accuracy = 100*tf.reduce_mean(tf.cast(correct_prediction, tf.float32))\n",
    "    return sess.run(accuracy, feed_dict={'x:0': mnist.test.images, 'y_:0': mnist.test.labels})"
   ]
  },
  {
   "cell_type": "code",
   "execution_count": 16,
   "metadata": {},
   "outputs": [
    {
     "name": "stdout",
     "output_type": "stream",
     "text": [
      "Accuracy = 98.55%\n"
     ]
    }
   ],
   "source": [
    "print('Accuracy = {:.2f}%'.format(test(y, y_, mnist)))"
   ]
  },
  {
   "cell_type": "code",
   "execution_count": 17,
   "metadata": {
    "collapsed": true
   },
   "outputs": [],
   "source": [
    "# save model\n",
    "save_path = saver.save(sess, model_path)"
   ]
  },
  {
   "cell_type": "code",
   "execution_count": 9,
   "metadata": {},
   "outputs": [
    {
     "name": "stdout",
     "output_type": "stream",
     "text": [
      "INFO:tensorflow:Restoring parameters from models/mnist-shallow/model2.ckpt\n"
     ]
    }
   ],
   "source": [
    "# restore model\n",
    "saver.restore(sess, model_path)"
   ]
  },
  {
   "cell_type": "code",
   "execution_count": 18,
   "metadata": {
    "collapsed": true
   },
   "outputs": [],
   "source": [
    "# dict of lists to store s, u, v values of svd\n",
    "svd = {'s':[], 'u':[], 'v':[]}\n",
    "\n",
    "for layer in weights:\n",
    "    if layer!='y':\n",
    "        s, u, v = tf.svd(weights[layer])\n",
    "        svd['s'].append(s)\n",
    "        svd['u'].append(u)\n",
    "        svd['v'].append(v)"
   ]
  },
  {
   "cell_type": "markdown",
   "metadata": {},
   "source": [
    "Having a look at the shape of the S matrix"
   ]
  },
  {
   "cell_type": "code",
   "execution_count": 27,
   "metadata": {},
   "outputs": [
    {
     "name": "stdout",
     "output_type": "stream",
     "text": [
      "(784,)\n",
      "(1024,)\n",
      "(1024,)\n",
      "(1024,)\n",
      "(1024,)\n"
     ]
    }
   ],
   "source": [
    "for val in svd['s']:\n",
    "    print(val.shape)"
   ]
  },
  {
   "cell_type": "code",
   "execution_count": 19,
   "metadata": {},
   "outputs": [
    {
     "name": "stdout",
     "output_type": "stream",
     "text": [
      "10 done\n",
      "20 done\n",
      "50 done\n",
      "100 done\n",
      "200 done\n",
      "full done\n"
     ]
    }
   ],
   "source": [
    "# feedforward with different values of D \n",
    "\n",
    "d = [10, 20, 50, 100, 200, 1024]\n",
    "accuracies = []\n",
    "\n",
    "for dval in d:\n",
    "    if dval==1024: # for d=full\n",
    "        hidden1_svd = tf.nn.relu(tf.add(tf.matmul(x, tf.matmul(tf.matmul(svd['u'][0][:,:784], tf.diag(svd['s'][0])[:784,:784]), \n",
    "                                              tf.transpose(svd['v'][0][:,:784]))), biases['b1']))  \n",
    "    else:\n",
    "        hidden1_svd = tf.nn.relu(tf.add(tf.matmul(x, tf.matmul(tf.matmul(svd['u'][0][:,:dval], tf.diag(svd['s'][0])[:dval,:dval]), \n",
    "                                              tf.transpose(svd['v'][0][:,:dval]))), biases['b1']))  \n",
    "\n",
    "    hidden2_svd = tf.nn.relu(tf.add(tf.matmul(hidden1_svd, tf.matmul(tf.matmul(svd['u'][1][:,:dval], tf.diag(svd['s'][1])[:dval,:dval]), \n",
    "                                              tf.transpose(svd['v'][1][:,:dval]))), biases['b2']))\n",
    "\n",
    "    hidden3_svd = tf.nn.relu(tf.add(tf.matmul(hidden2_svd, tf.matmul(tf.matmul(svd['u'][2][:,:dval], tf.diag(svd['s'][2])[:dval,:dval]), \n",
    "                                              tf.transpose(svd['v'][2][:,:dval]))), biases['b3']))\n",
    "\n",
    "    hidden4_svd = tf.nn.relu(tf.add(tf.matmul(hidden3_svd, tf.matmul(tf.matmul(svd['u'][3][:,:dval], tf.diag(svd['s'][3])[:dval,:dval]), \n",
    "                                              tf.transpose(svd['v'][3][:,:dval]))), biases['b4']))\n",
    "\n",
    "    hidden5_svd = tf.nn.relu(tf.add(tf.matmul(hidden4_svd, tf.matmul(tf.matmul(svd['u'][4][:,:dval], tf.diag(svd['s'][4])[:dval,:dval]), \n",
    "                                              tf.transpose(svd['v'][4][:,:dval]))), biases['b5']))\n",
    "\n",
    "    y_svd = tf.nn.softmax(tf.add(tf.matmul(hidden5_svd, weights['y']), biases['y']))\n",
    "    \n",
    "    \n",
    "    accuracies.append(test(y_svd, y_, mnist))\n",
    "    \n",
    "    if dval==1024:\n",
    "        print('full done')\n",
    "    else:\n",
    "        print(dval,\"done\")"
   ]
  },
  {
   "cell_type": "code",
   "execution_count": 20,
   "metadata": {},
   "outputs": [
    {
     "data": {
      "image/png": "[encoded data removed]",
      "text/plain": [
       "<matplotlib.figure.Figure at 0x7f936abb0fd0>"
      ]
     },
     "metadata": {},
     "output_type": "display_data"
    }
   ],
   "source": [
    "# plotting accuracies for all values of D\n",
    "\n",
    "plt.figure(figsize=(15, 10))\n",
    "plt.scatter(np.arange(6), accuracies)\n",
    "plt.xticks(np.arange(6), [str(val) for val in d[:-1]]+['full'])\n",
    "plt.yticks(np.arange(70, 101, 1))\n",
    "plt.xlabel('D')\n",
    "plt.ylabel('Accuracy %')\n",
    "plt.grid(True)\n",
    "plt.show()"
   ]
  },
  {
   "cell_type": "markdown",
   "metadata": {},
   "source": [
    "The plot above shows the change in accuracies as the singular values D vary. It can be seen that the accuracy increases with the increase in D. The accuracy when D=full is as good as the baseline while D=10 gives the worst performance among the others. Although the accuracy is low for lower values of D, they reduce the amount of computation during feedforward. These values can be thus be used to initialize weights for a compressed network, which can be finetuned to get better accuracy.   "
   ]
  },
  {
   "cell_type": "code",
   "execution_count": 21,
   "metadata": {
    "collapsed": true
   },
   "outputs": [],
   "source": [
    "# path to save/load new model \n",
    "svd_20_path = \"models/mnist-shallow/svd_20.ckpt\""
   ]
  },
  {
   "cell_type": "code",
   "execution_count": 22,
   "metadata": {
    "collapsed": true
   },
   "outputs": [],
   "source": [
    "# helper to generate keys for weights/biases dict\n",
    "\n",
    "keys = []\n",
    "\n",
    "for i in range(5):\n",
    "    keys.append('{}_u'.format(i+1))\n",
    "    keys.append('{}_v'.format(i+1))\n",
    "keys.append('y')"
   ]
  },
  {
   "cell_type": "code",
   "execution_count": 23,
   "metadata": {
    "collapsed": true
   },
   "outputs": [],
   "source": [
    "# store global variables that have been initialized till now\n",
    "initialized = set(tf.global_variables())"
   ]
  },
  {
   "cell_type": "code",
   "execution_count": 24,
   "metadata": {
    "collapsed": true
   },
   "outputs": [],
   "source": [
    "# new weights and biases for D=20\n",
    "\n",
    "weights_20 = {}\n",
    "biases_20 = {}\n",
    " \n",
    "for key in keys[:-1]:\n",
    "    layer = int(key[0])-1\n",
    "    svd_mat = key[-1]\n",
    "    \n",
    "    if svd_mat=='u':\n",
    "        weights_20['h'+key] =  tf.Variable(sess.run(svd['u'][layer][:,:20]))\n",
    "        biases_20['b'+key] = tf.Variable(tf.zeros([20]))\n",
    "    else:\n",
    "        weights_20['h'+key] = tf.Variable(sess.run(tf.matmul(\n",
    "            tf.diag(svd['s'][layer])[:20,:20], \n",
    "            tf.transpose(svd['v'][layer][:,:20])\n",
    "        )))\n",
    "        biases_20['b'+key] = tf.Variable(tf.zeros([hidden_units]))\n",
    "        \n",
    "weights_20['y'] = tf.Variable(sess.run(weights['y']))\n",
    "biases_20['y'] = tf.Variable(tf.zeros([10]))"
   ]
  },
  {
   "cell_type": "code",
   "execution_count": 25,
   "metadata": {
    "collapsed": true
   },
   "outputs": [],
   "source": [
    "# new n/w architecture\n",
    "\n",
    "hidden1_u = tf.nn.relu(tf.matmul(x, weights_20['h1_u']) + biases_20['b1_u'])\n",
    "hidden1_v = tf.nn.relu(tf.matmul(hidden1_u, weights_20['h1_v']) + biases_20['b1_v'])\n",
    "\n",
    "hidden2_u = tf.nn.relu(tf.matmul(hidden1_v, weights_20['h2_u']) + biases_20['b2_u'])\n",
    "hidden2_v = tf.nn.relu(tf.matmul(hidden2_u, weights_20['h2_v']) + biases_20['b2_v'])\n",
    "\n",
    "hidden3_u = tf.nn.relu(tf.matmul(hidden2_v, weights_20['h3_u']) + biases_20['b3_u'])\n",
    "hidden3_v = tf.nn.relu(tf.matmul(hidden3_u, weights_20['h3_v']) + biases_20['b3_v'])\n",
    "\n",
    "hidden4_u = tf.nn.relu(tf.matmul(hidden3_v, weights_20['h4_u']) + biases_20['b4_u'])\n",
    "hidden4_v = tf.nn.relu(tf.matmul(hidden4_u, weights_20['h4_v']) + biases_20['b4_v'])\n",
    "\n",
    "hidden5_u = tf.nn.relu(tf.matmul(hidden4_v, weights_20['h5_u']) + biases_20['b5_u'])\n",
    "hidden5_v = tf.nn.relu(tf.matmul(hidden5_u, weights_20['h5_v']) + biases_20['b5_v'])\n",
    "\n",
    "y_20 = tf.matmul(hidden5_v, weights_20['y']) + biases_20['y']"
   ]
  },
  {
   "cell_type": "code",
   "execution_count": 26,
   "metadata": {
    "collapsed": true
   },
   "outputs": [],
   "source": [
    "cross_entropy_20 = tf.reduce_mean(tf.nn.softmax_cross_entropy_with_logits_v2(logits=y_20, labels=y_))\n",
    "train_step_20 = tf.train.AdamOptimizer().minimize(cross_entropy_20)"
   ]
  },
  {
   "cell_type": "code",
   "execution_count": 27,
   "metadata": {
    "collapsed": true
   },
   "outputs": [],
   "source": [
    "# init only new variables \n",
    "sess.run(tf.variables_initializer(set(tf.global_variables()) - initialized))"
   ]
  },
  {
   "cell_type": "code",
   "execution_count": 32,
   "metadata": {
    "scrolled": true
   },
   "outputs": [
    {
     "name": "stdout",
     "output_type": "stream",
     "text": [
      "Epoch: 01 \tcost=0.025180072\n",
      "Epoch: 02 \tcost=0.021299959\n",
      "Epoch: 03 \tcost=0.020269438\n",
      "Epoch: 04 \tcost=0.021382123\n",
      "Epoch: 05 \tcost=0.015896063\n",
      "Epoch: 06 \tcost=0.020531045\n",
      "Epoch: 07 \tcost=0.024283398\n",
      "Epoch: 08 \tcost=0.021523427\n",
      "Epoch: 09 \tcost=0.023597770\n",
      "Epoch: 10 \tcost=0.019215811\n",
      "Epoch: 11 \tcost=0.022588605\n",
      "Epoch: 12 \tcost=0.019381890\n",
      "Epoch: 13 \tcost=0.020448377\n",
      "Epoch: 14 \tcost=0.024595842\n",
      "Epoch: 15 \tcost=0.017237076\n",
      "Epoch: 16 \tcost=0.015975158\n",
      "Epoch: 17 \tcost=0.018712164\n",
      "Epoch: 18 \tcost=0.019698384\n",
      "Epoch: 19 \tcost=0.022255920\n",
      "Epoch: 20 \tcost=0.023224746\n",
      "Epoch: 21 \tcost=0.017358900\n",
      "Epoch: 22 \tcost=0.017553471\n",
      "Epoch: 23 \tcost=0.028187710\n",
      "Epoch: 24 \tcost=0.014870938\n",
      "Epoch: 25 \tcost=0.016509837\n",
      "Epoch: 26 \tcost=0.015014031\n",
      "Epoch: 27 \tcost=0.022046055\n",
      "Epoch: 28 \tcost=0.015916045\n",
      "Epoch: 29 \tcost=0.016236033\n",
      "Epoch: 30 \tcost=0.021404265\n",
      "Epoch: 31 \tcost=0.013881243\n",
      "Epoch: 32 \tcost=0.013140946\n",
      "Epoch: 33 \tcost=0.018450375\n",
      "Epoch: 34 \tcost=0.019727645\n",
      "Epoch: 35 \tcost=0.023245887\n",
      "Epoch: 36 \tcost=0.016114210\n",
      "Epoch: 37 \tcost=0.017982884\n",
      "Epoch: 38 \tcost=0.018814561\n",
      "Epoch: 39 \tcost=0.019952245\n",
      "Epoch: 40 \tcost=0.011512057\n",
      "Epoch: 41 \tcost=0.013827032\n",
      "Epoch: 42 \tcost=0.021954334\n",
      "Epoch: 43 \tcost=0.015700458\n",
      "Epoch: 44 \tcost=0.022254788\n",
      "Epoch: 45 \tcost=0.018892320\n",
      "Epoch: 46 \tcost=0.016871961\n",
      "Epoch: 47 \tcost=0.017156099\n",
      "Epoch: 48 \tcost=0.018479511\n",
      "Epoch: 49 \tcost=0.018366672\n",
      "Epoch: 50 \tcost=0.014424528\n"
     ]
    }
   ],
   "source": [
    "train(mnist, sess, train_step_20, cross_entropy_20)"
   ]
  },
  {
   "cell_type": "code",
   "execution_count": 26,
   "metadata": {
    "collapsed": true
   },
   "outputs": [],
   "source": [
    "# save new model\n",
    "save_path_20 = saver.save(sess, svd_20_path)"
   ]
  },
  {
   "cell_type": "code",
   "execution_count": 31,
   "metadata": {},
   "outputs": [
    {
     "name": "stdout",
     "output_type": "stream",
     "text": [
      "INFO:tensorflow:Restoring parameters from models/mnist-shallow/svd_20.ckpt\n"
     ]
    }
   ],
   "source": [
    "# restore svd model\n",
    "saver.restore(sess, svd_20_path)"
   ]
  },
  {
   "cell_type": "code",
   "execution_count": 33,
   "metadata": {},
   "outputs": [
    {
     "name": "stdout",
     "output_type": "stream",
     "text": [
      "Accuracy = 97.19%\n"
     ]
    }
   ],
   "source": [
    "print('Accuracy = {:.2f}%'.format(test(y_20, y_, mnist)))"
   ]
  },
  {
   "cell_type": "code",
   "execution_count": 34,
   "metadata": {
    "collapsed": true
   },
   "outputs": [],
   "source": [
    "sess.close()"
   ]
  }
 ],
 "metadata": {
  "kernelspec": {
   "display_name": "Python 3",
   "language": "python",
   "name": "python3"
  },
  "language_info": {
   "codemirror_mode": {
    "name": "ipython",
    "version": 3
   },
   "file_extension": ".py",
   "mimetype": "text/x-python",
   "name": "python",
   "nbconvert_exporter": "python",
   "pygments_lexer": "ipython3",
   "version": "3.5.3"
  }
 },
 "nbformat": 4,
 "nbformat_minor": 2
}
