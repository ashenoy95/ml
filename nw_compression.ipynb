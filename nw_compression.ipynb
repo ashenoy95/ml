{
 "cells": [
  {
   "cell_type": "code",
   "execution_count": 1,
   "metadata": {
    "collapsed": true
   },
   "outputs": [],
   "source": [
    "%matplotlib inline\n",
    "from set_gpu import *\n",
    "import tensorflow as tf\n",
    "import matplotlib.pyplot as plt\n",
    "import numpy as np\n",
    "\n",
    "gpu_options = tf.GPUOptions(allow_growth=True, per_process_gpu_memory_fraction = 0.33)\n",
    "config = tf.ConfigProto(gpu_options=gpu_options)"
   ]
  },
  {
   "cell_type": "code",
   "execution_count": 2,
   "metadata": {},
   "outputs": [
    {
     "name": "stdout",
     "output_type": "stream",
     "text": [
      "Extracting data/MNIST_data/train-images-idx3-ubyte.gz\n",
      "Extracting data/MNIST_data/train-labels-idx1-ubyte.gz\n",
      "Extracting data/MNIST_data/t10k-images-idx3-ubyte.gz\n",
      "Extracting data/MNIST_data/t10k-labels-idx1-ubyte.gz\n"
     ]
    }
   ],
   "source": [
    "from tensorflow.examples.tutorials.mnist import input_data\n",
    "mnist = input_data.read_data_sets('data/MNIST_data/', one_hot=True)"
   ]
  },
  {
   "cell_type": "code",
   "execution_count": 3,
   "metadata": {
    "collapsed": true
   },
   "outputs": [],
   "source": [
    "model_path = \"models/mnist-shallow/model2.ckpt\"\n",
    "\n",
    "hidden_units = 1024\n",
    "x = tf.placeholder(tf.float32, [None, 784], name='x')\n",
    "y_ = tf.placeholder(tf.float32, [None, 10], name='y_')\n",
    "weights = {\n",
    "    'h1': tf.Variable(tf.random_normal([784, hidden_units], stddev=tf.sqrt(2/(784+hidden_units)), mean=0)),\n",
    "    'h2': tf.Variable(tf.random_normal([hidden_units, hidden_units], stddev=tf.sqrt(1/hidden_units), mean=0)),\n",
    "    'h3': tf.Variable(tf.random_normal([hidden_units, hidden_units], stddev=tf.sqrt(1/hidden_units), mean=0)),\n",
    "    'h4': tf.Variable(tf.random_normal([hidden_units, hidden_units], stddev=tf.sqrt(1/hidden_units), mean=0)),\n",
    "    'h5': tf.Variable(tf.random_normal([hidden_units, hidden_units], stddev=tf.sqrt(1/hidden_units), mean=0)),\n",
    "    'y': tf.Variable(tf.random_normal([hidden_units, 10], stddev=tf.sqrt(2/(hidden_units+10)), mean=0))\n",
    "} # xavier init\n",
    "biases = {\n",
    "    'b1': tf.Variable(tf.zeros([hidden_units])),\n",
    "    'b2': tf.Variable(tf.zeros([hidden_units])),\n",
    "    'b3': tf.Variable(tf.zeros([hidden_units])),\n",
    "    'b4': tf.Variable(tf.zeros([hidden_units])),\n",
    "    'b5': tf.Variable(tf.zeros([hidden_units])),\n",
    "    'y': tf.Variable(tf.zeros([10]))\n",
    "}\n",
    "\n",
    "# for batch norm\n",
    "epsilon = 1e-3 # a small float to avoid div by 0\n",
    "scale = tf.ones([hidden_units])\n",
    "beta = tf.zeros([hidden_units]) # offset"
   ]
  },
  {
   "cell_type": "code",
   "execution_count": 4,
   "metadata": {
    "collapsed": true
   },
   "outputs": [],
   "source": [
    "# linear combination -> batch_norm -> activation -> dropout\n",
    "\n",
    "hidden_1 = tf.nn.relu(tf.matmul(x, weights['h1']) + biases['b1'])\n",
    "#batch_mean, batch_var = tf.nn.moments(hidden_1, [0])\n",
    "#batch_norm_1 = tf.nn.batch_normalization(hidden_1, batch_mean, batch_var, None, None, epsilon)\n",
    "#dropout_1 = tf.nn.dropout(tf.nn.relu(batch_norm_1), .4)    \n",
    "\n",
    "hidden_2 = tf.nn.relu(tf.matmul(hidden_1, weights['h2']) + biases['b2'])\n",
    "#batch_mean, batch_var = tf.nn.moments(hidden_2, [0])\n",
    "#batch_norm_2 = tf.nn.batch_normalization(hidden_2, batch_mean, batch_var, None, None, epsilon)\n",
    "#dropout_2 = tf.nn.dropout(tf.nn.relu(batch_norm_2), .4) \n",
    "\n",
    "hidden_3 = tf.nn.relu(tf.matmul(hidden_2, weights['h3']) + biases['b3'])\n",
    "#batch_mean, batch_var = tf.nn.moments(hidden_3, [0])\n",
    "#batch_norm_3 = tf.nn.batch_normalization(hidden_3, batch_mean, batch_var, None, None, epsilon)\n",
    "#dropout_3 = tf.nn.dropout(tf.nn.relu(batch_norm_3), .4) \n",
    "\n",
    "hidden_4 = tf.nn.relu(tf.matmul(hidden_3, weights['h4']) + biases['b4'])\n",
    "#batch_mean, batch_var = tf.nn.moments(hidden_4, [0])\n",
    "#batch_norm_4 = tf.nn.batch_normalization(hidden_4, batch_mean, batch_var, None, None, epsilon)\n",
    "#dropout_4 = tf.nn.dropout(tf.nn.relu(batch_norm_4), .4) \n",
    "\n",
    "hidden_5 = tf.nn.relu(tf.matmul(hidden_4, weights['h5']) + biases['b5'])\n",
    "#batch_mean, batch_var = tf.nn.moments(hidden_5, [0])\n",
    "#batch_norm_5 = tf.nn.batch_normalization(hidden_5, batch_mean, batch_var, None, None, epsilon)\n",
    "#dropout_5 = tf.nn.dropout(tf.nn.relu(batch_norm_5), .4) \n",
    "\n",
    "y = tf.matmul(hidden_5, weights['y']) + biases['y']"
   ]
  },
  {
   "cell_type": "code",
   "execution_count": 5,
   "metadata": {
    "collapsed": true
   },
   "outputs": [],
   "source": [
    "cross_entropy = tf.reduce_mean(tf.nn.softmax_cross_entropy_with_logits_v2(logits=y, labels=y_))\n",
    "train_step = tf.train.AdamOptimizer(.0001).minimize(cross_entropy)"
   ]
  },
  {
   "cell_type": "code",
   "execution_count": 6,
   "metadata": {
    "collapsed": true
   },
   "outputs": [],
   "source": [
    "init = tf.global_variables_initializer()"
   ]
  },
  {
   "cell_type": "code",
   "execution_count": 7,
   "metadata": {
    "collapsed": true
   },
   "outputs": [],
   "source": [
    "saver = tf.train.Saver()"
   ]
  },
  {
   "cell_type": "code",
   "execution_count": 8,
   "metadata": {
    "collapsed": true
   },
   "outputs": [],
   "source": [
    "sess = tf.Session(config=config)\n",
    "sess.run(init)"
   ]
  },
  {
   "cell_type": "code",
   "execution_count": 9,
   "metadata": {
    "collapsed": true,
    "scrolled": true
   },
   "outputs": [],
   "source": [
    "def train(mnist, sess, train_step, cross_entropy):\n",
    "    i = 550\n",
    "    epochs = 50\n",
    "    display_step = 1\n",
    "\n",
    "    for epoch in range(epochs):\n",
    "        avg_cost = 0\n",
    "        for _ in range(i):\n",
    "            batch_xs, batch_ys = mnist.train.next_batch(100)\n",
    "            _, cost = sess.run([train_step, cross_entropy], feed_dict={'x:0': batch_xs, 'y_:0': batch_ys})\n",
    "            avg_cost += cost/i\n",
    "        if epoch%display_step==0:\n",
    "            print(\"Epoch:\", '%02d'%(epoch+1), \"\\tcost={:.9f}\".format(avg_cost))"
   ]
  },
  {
   "cell_type": "code",
   "execution_count": 10,
   "metadata": {
    "scrolled": true
   },
   "outputs": [
    {
     "name": "stdout",
     "output_type": "stream",
     "text": [
      "Epoch: 01 \tcost=0.308368597\n",
      "Epoch: 02 \tcost=0.106483603\n",
      "Epoch: 03 \tcost=0.063942520\n",
      "Epoch: 04 \tcost=0.043310779\n",
      "Epoch: 05 \tcost=0.026464633\n",
      "Epoch: 06 \tcost=0.020937722\n",
      "Epoch: 07 \tcost=0.015892280\n",
      "Epoch: 08 \tcost=0.014206792\n",
      "Epoch: 09 \tcost=0.012484210\n",
      "Epoch: 10 \tcost=0.010099572\n",
      "Epoch: 11 \tcost=0.009442633\n",
      "Epoch: 12 \tcost=0.008417426\n",
      "Epoch: 13 \tcost=0.008848761\n",
      "Epoch: 14 \tcost=0.009141778\n",
      "Epoch: 15 \tcost=0.006326413\n",
      "Epoch: 16 \tcost=0.007700397\n",
      "Epoch: 17 \tcost=0.006042477\n",
      "Epoch: 18 \tcost=0.003816723\n",
      "Epoch: 19 \tcost=0.006768847\n",
      "Epoch: 20 \tcost=0.006009979\n",
      "Epoch: 21 \tcost=0.004338271\n",
      "Epoch: 22 \tcost=0.006527691\n",
      "Epoch: 23 \tcost=0.006689064\n",
      "Epoch: 24 \tcost=0.005155070\n",
      "Epoch: 25 \tcost=0.001628125\n",
      "Epoch: 26 \tcost=0.003433253\n",
      "Epoch: 27 \tcost=0.007206303\n",
      "Epoch: 28 \tcost=0.004532520\n",
      "Epoch: 29 \tcost=0.003091856\n",
      "Epoch: 30 \tcost=0.006097249\n",
      "Epoch: 31 \tcost=0.005629592\n",
      "Epoch: 32 \tcost=0.003196812\n",
      "Epoch: 33 \tcost=0.000712070\n",
      "Epoch: 34 \tcost=0.000030185\n",
      "Epoch: 35 \tcost=0.000014389\n",
      "Epoch: 36 \tcost=0.000007927\n",
      "Epoch: 37 \tcost=0.000004463\n",
      "Epoch: 38 \tcost=0.000002619\n",
      "Epoch: 39 \tcost=0.000001625\n",
      "Epoch: 40 \tcost=0.000001054\n",
      "Epoch: 41 \tcost=0.000000708\n",
      "Epoch: 42 \tcost=0.000000489\n",
      "Epoch: 43 \tcost=0.000000347\n",
      "Epoch: 44 \tcost=0.000000252\n",
      "Epoch: 45 \tcost=0.000000186\n",
      "Epoch: 46 \tcost=0.000000139\n",
      "Epoch: 47 \tcost=0.000000105\n",
      "Epoch: 48 \tcost=0.000000080\n",
      "Epoch: 49 \tcost=0.000000062\n",
      "Epoch: 50 \tcost=0.000000048\n"
     ]
    }
   ],
   "source": [
    "train(mnist, sess, train_step, cross_entropy)"
   ]
  },
  {
   "cell_type": "code",
   "execution_count": 11,
   "metadata": {
    "collapsed": true
   },
   "outputs": [],
   "source": [
    "def test(y, y_, mnist):\n",
    "    correct_prediction = tf.equal(tf.argmax(y, 1), tf.argmax(y_, 1))\n",
    "    accuracy = 100*tf.reduce_mean(tf.cast(correct_prediction, tf.float32))\n",
    "    return sess.run(accuracy, feed_dict={'x:0': mnist.test.images, 'y_:0': mnist.test.labels})"
   ]
  },
  {
   "cell_type": "code",
   "execution_count": 12,
   "metadata": {},
   "outputs": [
    {
     "name": "stdout",
     "output_type": "stream",
     "text": [
      "Accuracy = 98.63%\n"
     ]
    }
   ],
   "source": [
    "print('Accuracy = {:.2f}%'.format(test(y, y_, mnist)))"
   ]
  },
  {
   "cell_type": "code",
   "execution_count": 11,
   "metadata": {
    "collapsed": true
   },
   "outputs": [],
   "source": [
    "save_path = saver.save(sess, model_path)"
   ]
  },
  {
   "cell_type": "code",
   "execution_count": 9,
   "metadata": {},
   "outputs": [
    {
     "name": "stdout",
     "output_type": "stream",
     "text": [
      "INFO:tensorflow:Restoring parameters from models/mnist-shallow/model2.ckpt\n"
     ]
    }
   ],
   "source": [
    "saver.restore(sess, model_path)"
   ]
  },
  {
   "cell_type": "code",
   "execution_count": 13,
   "metadata": {
    "collapsed": true
   },
   "outputs": [],
   "source": [
    "svd = {'s':[], 'u':[], 'v':[]}\n",
    "\n",
    "for layer in weights:\n",
    "    if layer!='y':\n",
    "        s, u, v = tf.svd(weights[layer])\n",
    "        svd['s'].append(s)\n",
    "        svd['u'].append(u)\n",
    "        svd['v'].append(v)"
   ]
  },
  {
   "cell_type": "code",
   "execution_count": 14,
   "metadata": {},
   "outputs": [
    {
     "name": "stdout",
     "output_type": "stream",
     "text": [
      "10 done\n",
      "20 done\n",
      "50 done\n",
      "100 done\n",
      "200 done\n",
      "full done\n"
     ]
    }
   ],
   "source": [
    "d = [10, 20, 50, 100, 200, 1024]\n",
    "accuracies = []\n",
    "\n",
    "for dval in d:\n",
    "    if dval==1024:\n",
    "        hidden1_svd = tf.nn.relu(tf.add(tf.matmul(x, tf.matmul(tf.matmul(svd['u'][0][:,:784], tf.diag(svd['s'][0])[:784,:784]), \n",
    "                                              tf.transpose(svd['v'][0][:,:784]))), biases['b1']))  \n",
    "    else:\n",
    "        hidden1_svd = tf.nn.relu(tf.add(tf.matmul(x, tf.matmul(tf.matmul(svd['u'][0][:,:dval], tf.diag(svd['s'][0])[:dval,:dval]), \n",
    "                                              tf.transpose(svd['v'][0][:,:dval]))), biases['b1']))  \n",
    "\n",
    "    hidden2_svd = tf.nn.relu(tf.add(tf.matmul(hidden1_svd, tf.matmul(tf.matmul(svd['u'][1][:,:dval], tf.diag(svd['s'][1])[:dval,:dval]), \n",
    "                                              tf.transpose(svd['v'][1][:,:dval]))), biases['b2']))\n",
    "\n",
    "    hidden3_svd = tf.nn.relu(tf.add(tf.matmul(hidden2_svd, tf.matmul(tf.matmul(svd['u'][2][:,:dval], tf.diag(svd['s'][2])[:dval,:dval]), \n",
    "                                              tf.transpose(svd['v'][2][:,:dval]))), biases['b3']))\n",
    "\n",
    "    hidden4_svd = tf.nn.relu(tf.add(tf.matmul(hidden3_svd, tf.matmul(tf.matmul(svd['u'][3][:,:dval], tf.diag(svd['s'][3])[:dval,:dval]), \n",
    "                                              tf.transpose(svd['v'][3][:,:dval]))), biases['b4']))\n",
    "\n",
    "    hidden5_svd = tf.nn.relu(tf.add(tf.matmul(hidden4_svd, tf.matmul(tf.matmul(svd['u'][4][:,:dval], tf.diag(svd['s'][4])[:dval,:dval]), \n",
    "                                              tf.transpose(svd['v'][4][:,:dval]))), biases['b5']))\n",
    "\n",
    "    y_svd = tf.nn.softmax(tf.add(tf.matmul(hidden5_svd, weights['y']), biases['y']))\n",
    "    \n",
    "    \n",
    "    accuracies.append(test(y_svd, y_, mnist))\n",
    "    \n",
    "    if dval==1024:\n",
    "        print('full done')\n",
    "    else:\n",
    "        print(dval,\"done\")"
   ]
  },
  {
   "cell_type": "code",
   "execution_count": 61,
   "metadata": {},
   "outputs": [
    {
     "data": {
      "image/png": "[encoded data removed]",
      "text/plain": [
       "<matplotlib.figure.Figure at 0x7fbdb0b27048>"
      ]
     },
     "metadata": {},
     "output_type": "display_data"
    }
   ],
   "source": [
    "plt.figure(figsize=(15, 10))\n",
    "plt.scatter(np.arange(6), accuracies)\n",
    "plt.xticks(np.arange(6), [str(val) for val in d[:-1]]+['full'])\n",
    "plt.yticks(np.arange(70, 101, 1))\n",
    "plt.grid(True)\n",
    "plt.show()"
   ]
  },
  {
   "cell_type": "code",
   "execution_count": 25,
   "metadata": {
    "collapsed": true
   },
   "outputs": [],
   "source": [
    "svd_20_path = \"models/mnist-shallow/svd_20.ckpt\""
   ]
  },
  {
   "cell_type": "code",
   "execution_count": 16,
   "metadata": {
    "collapsed": true
   },
   "outputs": [],
   "source": [
    "keys = []\n",
    "\n",
    "for i in range(5):\n",
    "    keys.append('{}_u'.format(i+1))\n",
    "    keys.append('{}_v'.format(i+1))\n",
    "keys.append('y')"
   ]
  },
  {
   "cell_type": "code",
   "execution_count": 17,
   "metadata": {
    "collapsed": true
   },
   "outputs": [],
   "source": [
    "# store global variables that have been initialized till now\n",
    "initialized = set(tf.global_variables())"
   ]
  },
  {
   "cell_type": "code",
   "execution_count": 18,
   "metadata": {
    "collapsed": true
   },
   "outputs": [],
   "source": [
    "weights_20 = {}\n",
    "biases_20 = {}\n",
    " \n",
    "for key in keys[:-1]:\n",
    "    layer = int(key[0])-1\n",
    "    svd_mat = key[-1]\n",
    "    \n",
    "    if svd_mat=='u':\n",
    "        weights_20['h'+key] =  tf.Variable(sess.run(svd['u'][layer][:,:20]))\n",
    "        biases_20['b'+key] = tf.Variable(tf.zeros([20]))\n",
    "    else:\n",
    "        weights_20['h'+key] = tf.Variable(sess.run(tf.matmul(\n",
    "            tf.diag(svd['s'][layer])[:20,:20], \n",
    "            tf.transpose(svd['v'][layer][:,:20])\n",
    "        )))\n",
    "        biases_20['b'+key] = tf.Variable(tf.zeros([hidden_units]))\n",
    "        \n",
    "weights_20['y'] = tf.Variable(sess.run(weights['y']))\n",
    "biases_20['y'] = tf.Variable(tf.zeros([10]))"
   ]
  },
  {
   "cell_type": "code",
   "execution_count": 19,
   "metadata": {
    "collapsed": true
   },
   "outputs": [],
   "source": [
    "hidden1_u = tf.nn.relu(tf.matmul(x, weights_20['h1_u']) + biases_20['b1_u'])\n",
    "hidden1_v = tf.nn.relu(tf.matmul(hidden1_u, weights_20['h1_v']) + biases_20['b1_v'])\n",
    "\n",
    "hidden2_u = tf.nn.relu(tf.matmul(hidden1_v, weights_20['h2_u']) + biases_20['b2_u'])\n",
    "hidden2_v = tf.nn.relu(tf.matmul(hidden2_u, weights_20['h2_v']) + biases_20['b2_v'])\n",
    "\n",
    "hidden3_u = tf.nn.relu(tf.matmul(hidden2_v, weights_20['h3_u']) + biases_20['b3_u'])\n",
    "hidden3_v = tf.nn.relu(tf.matmul(hidden3_u, weights_20['h3_v']) + biases_20['b3_v'])\n",
    "\n",
    "hidden4_u = tf.nn.relu(tf.matmul(hidden3_v, weights_20['h4_u']) + biases_20['b4_u'])\n",
    "hidden4_v = tf.nn.relu(tf.matmul(hidden4_u, weights_20['h4_v']) + biases_20['b4_v'])\n",
    "\n",
    "hidden5_u = tf.nn.relu(tf.matmul(hidden4_v, weights_20['h5_u']) + biases_20['b5_u'])\n",
    "hidden5_v = tf.nn.relu(tf.matmul(hidden5_u, weights_20['h5_v']) + biases_20['b5_v'])\n",
    "\n",
    "y_20 = tf.matmul(hidden5_v, weights_20['y']) + biases_20['y']"
   ]
  },
  {
   "cell_type": "code",
   "execution_count": 20,
   "metadata": {
    "collapsed": true
   },
   "outputs": [],
   "source": [
    "cross_entropy_20 = tf.reduce_mean(tf.nn.softmax_cross_entropy_with_logits_v2(logits=y_20, labels=y_))\n",
    "train_step_20 = tf.train.AdamOptimizer().minimize(cross_entropy_20)"
   ]
  },
  {
   "cell_type": "code",
   "execution_count": 21,
   "metadata": {
    "collapsed": true
   },
   "outputs": [],
   "source": [
    "# init only new variables \n",
    "sess.run(tf.variables_initializer(set(tf.global_variables()) - initialized))"
   ]
  },
  {
   "cell_type": "code",
   "execution_count": 22,
   "metadata": {
    "scrolled": true
   },
   "outputs": [
    {
     "name": "stdout",
     "output_type": "stream",
     "text": [
      "Epoch: 01 \tcost=0.366448314\n",
      "Epoch: 02 \tcost=0.150045500\n",
      "Epoch: 03 \tcost=0.122763306\n",
      "Epoch: 04 \tcost=0.110178737\n",
      "Epoch: 05 \tcost=0.092656376\n",
      "Epoch: 06 \tcost=0.092163173\n",
      "Epoch: 07 \tcost=0.081235577\n",
      "Epoch: 08 \tcost=0.076495924\n",
      "Epoch: 09 \tcost=0.072574030\n",
      "Epoch: 10 \tcost=0.067482711\n",
      "Epoch: 11 \tcost=0.059226819\n",
      "Epoch: 12 \tcost=0.060882854\n",
      "Epoch: 13 \tcost=0.060411546\n",
      "Epoch: 14 \tcost=0.054420219\n",
      "Epoch: 15 \tcost=0.051186647\n",
      "Epoch: 16 \tcost=0.047151393\n",
      "Epoch: 17 \tcost=0.049137877\n",
      "Epoch: 18 \tcost=0.045952117\n",
      "Epoch: 19 \tcost=0.043432888\n",
      "Epoch: 20 \tcost=0.043275801\n",
      "Epoch: 21 \tcost=0.039793251\n",
      "Epoch: 22 \tcost=0.040172850\n",
      "Epoch: 23 \tcost=0.035581557\n",
      "Epoch: 24 \tcost=0.036790111\n",
      "Epoch: 25 \tcost=0.035857802\n",
      "Epoch: 26 \tcost=0.032667134\n",
      "Epoch: 27 \tcost=0.033819291\n",
      "Epoch: 28 \tcost=0.034217128\n",
      "Epoch: 29 \tcost=0.032885397\n",
      "Epoch: 30 \tcost=0.030707486\n",
      "Epoch: 31 \tcost=0.028713997\n",
      "Epoch: 32 \tcost=0.028142446\n",
      "Epoch: 33 \tcost=0.034590628\n",
      "Epoch: 34 \tcost=0.029603418\n",
      "Epoch: 35 \tcost=0.029549217\n",
      "Epoch: 36 \tcost=0.030254039\n",
      "Epoch: 37 \tcost=0.023066862\n",
      "Epoch: 38 \tcost=0.026420727\n",
      "Epoch: 39 \tcost=0.028584803\n",
      "Epoch: 40 \tcost=0.029507626\n",
      "Epoch: 41 \tcost=0.026903981\n",
      "Epoch: 42 \tcost=0.026483172\n",
      "Epoch: 43 \tcost=0.019389109\n",
      "Epoch: 44 \tcost=0.026357724\n",
      "Epoch: 45 \tcost=0.028042789\n",
      "Epoch: 46 \tcost=0.026591940\n",
      "Epoch: 47 \tcost=0.029059184\n",
      "Epoch: 48 \tcost=0.023286602\n",
      "Epoch: 49 \tcost=0.020709862\n",
      "Epoch: 50 \tcost=0.017107626\n"
     ]
    }
   ],
   "source": [
    "train(mnist, sess, train_step_20, cross_entropy_20)"
   ]
  },
  {
   "cell_type": "code",
   "execution_count": 26,
   "metadata": {
    "collapsed": true
   },
   "outputs": [],
   "source": [
    "save_path_20 = saver.save(sess, svd_20_path)"
   ]
  },
  {
   "cell_type": "code",
   "execution_count": null,
   "metadata": {
    "collapsed": true
   },
   "outputs": [],
   "source": [
    "saver.restore(sess, svd_20_path)"
   ]
  },
  {
   "cell_type": "code",
   "execution_count": 23,
   "metadata": {},
   "outputs": [
    {
     "name": "stdout",
     "output_type": "stream",
     "text": [
      "Accuracy = 97.58%\n"
     ]
    }
   ],
   "source": [
    "print('Accuracy = {:.2f}%'.format(test(y_20, y_, mnist)))"
   ]
  },
  {
   "cell_type": "code",
   "execution_count": null,
   "metadata": {
    "collapsed": true
   },
   "outputs": [],
   "source": [
    "sess.close()"
   ]
  }
 ],
 "metadata": {
  "kernelspec": {
   "display_name": "Python 3",
   "language": "python",
   "name": "python3"
  },
  "language_info": {
   "codemirror_mode": {
    "name": "ipython",
    "version": 3
   },
   "file_extension": ".py",
   "mimetype": "text/x-python",
   "name": "python",
   "nbconvert_exporter": "python",
   "pygments_lexer": "ipython3",
   "version": "3.5.3"
  }
 },
 "nbformat": 4,
 "nbformat_minor": 2
}
