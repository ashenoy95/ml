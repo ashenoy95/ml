{
 "cells": [
  {
   "cell_type": "code",
   "execution_count": 1,
   "metadata": {
    "collapsed": true
   },
   "outputs": [],
   "source": [
    "import numpy as np\n",
    "import tensorflow as tf"
   ]
  },
  {
   "cell_type": "code",
   "execution_count": null,
   "metadata": {
    "collapsed": true
   },
   "outputs": [],
   "source": [
    "#seed = 1234\n",
    "#tf.set_random_seed(seed)\n",
    "#np.random.seed(seed)"
   ]
  },
  {
   "cell_type": "code",
   "execution_count": 4,
   "metadata": {
    "collapsed": true
   },
   "outputs": [],
   "source": [
    "# reading in data in stft domain\n",
    "\n",
    "import librosa\n",
    "\n",
    "s, sr = librosa.load('train_clean_male.wav', sr=None)\n",
    "S = librosa.stft(s, n_fft=1024, hop_length=512)\n",
    "sn, sr = librosa.load('train_dirty_male.wav', sr=None)\n",
    "X = librosa.stft(sn, n_fft=1024, hop_length=512)"
   ]
  },
  {
   "cell_type": "code",
   "execution_count": 5,
   "metadata": {
    "collapsed": true
   },
   "outputs": [],
   "source": [
    "# taking magnitude and transopose\n",
    "\n",
    "S_mod = abs(S).T\n",
    "X_mod = abs(X).T"
   ]
  },
  {
   "cell_type": "code",
   "execution_count": 6,
   "metadata": {
    "collapsed": true
   },
   "outputs": [],
   "source": [
    "# shuffling data\n",
    "\n",
    "indices = np.arange(X_mod.shape[0])\n",
    "np.random.shuffle(indices)\n",
    "X_mod_shuffled = X_mod[indices]\n",
    "S_mod_shuffled = S_mod[indices]"
   ]
  },
  {
   "cell_type": "code",
   "execution_count": 7,
   "metadata": {
    "collapsed": true
   },
   "outputs": [],
   "source": [
    "x = tf.placeholder(tf.float32, [None, X_mod.shape[1]])\n",
    "y_ = tf.placeholder(tf.float32, [None, S_mod.shape[1]])\n",
    "\n",
    "# boolean for is_traiaing in batch_norm\n",
    "phase = tf.placeholder(tf.bool)\n",
    "\n",
    "hidden_units = 1000\n",
    "activation_func = tf.nn.leaky_relu\n",
    "he_init = tf.contrib.layers.variance_scaling_initializer()"
   ]
  },
  {
   "cell_type": "code",
   "execution_count": 8,
   "metadata": {
    "collapsed": true
   },
   "outputs": [],
   "source": [
    "\n",
    "hidden_1 = tf.layers.dense(inputs=x, \n",
    "                           units=hidden_units, \n",
    "                           kernel_initializer=he_init, \n",
    "                           activation=activation_func)\n",
    "#dropout_1 = tf.layers.dropout(hidden_1, rate=.8)\n",
    "\n",
    "hidden_2 = tf.layers.dense(inputs=hidden_1, \n",
    "                           units=hidden_units, \n",
    "                           kernel_initializer=he_init, \n",
    "                           activation=activation_func)\n",
    "#dropout_2 = tf.layers.dropout(hidden_2, rate=.8)\n",
    "\n",
    "y = tf.layers.dense(inputs=hidden_2, \n",
    "                    units=S_mod.shape[1], \n",
    "                    kernel_initializer=he_init, \n",
    "                    activation=tf.nn.relu)\n"
   ]
  },
  {
   "cell_type": "code",
   "execution_count": 8,
   "metadata": {
    "collapsed": true
   },
   "outputs": [],
   "source": [
    "'''\n",
    "# batch normalization\n",
    "\n",
    "hidden_1 = tf.layers.dense(inputs=x, \n",
    "                           units=hidden_units, \n",
    "                           kernel_initializer=he_init)\n",
    "batch_norm_1 = tf.contrib.layers.batch_norm(hidden_1, is_training=phase, activation_fn=activation_func)\n",
    "#dropout_1 = tf.layers.dropout(batch_norm_1, rate=.8)\n",
    "\n",
    "\n",
    "hidden_2 = tf.layers.dense(inputs=batch_norm_1, \n",
    "                           units=hidden_units, \n",
    "                           kernel_initializer=he_init)\n",
    "batch_norm_2 = tf.contrib.layers.batch_norm(hidden_2, is_training=phase, activation_fn=activation_func)\n",
    "#dropout_2 = tf.layers.dropout(batch_norm_2, rate=.8)\n",
    "\n",
    "y = tf.layers.dense(inputs=batch_norm_2, \n",
    "                    units=S_mod.shape[1], \n",
    "                    kernel_initializer=he_init, \n",
    "                    activation=tf.nn.relu)\n",
    "'''"
   ]
  },
  {
   "cell_type": "code",
   "execution_count": 9,
   "metadata": {
    "collapsed": true
   },
   "outputs": [],
   "source": [
    "mse = tf.reduce_mean(tf.losses.mean_squared_error(y_, y))\n",
    "train_step = tf.train.AdamOptimizer().minimize(mse)"
   ]
  },
  {
   "cell_type": "code",
   "execution_count": 10,
   "metadata": {
    "collapsed": true
   },
   "outputs": [],
   "source": [
    "mini_batch_size = 32\n",
    "mini_batches = int(X_mod.shape[0]/mini_batch_size)"
   ]
  },
  {
   "cell_type": "code",
   "execution_count": 11,
   "metadata": {
    "collapsed": true
   },
   "outputs": [],
   "source": [
    "batch_xs, batch_ys = np.array_split(X_mod_shuffled, mini_batches), np.array_split(S_mod_shuffled, mini_batches)"
   ]
  },
  {
   "cell_type": "code",
   "execution_count": 76,
   "metadata": {
    "collapsed": true
   },
   "outputs": [],
   "source": [
    "init = tf.global_variables_initializer()\n",
    "sess = tf.Session()\n",
    "sess.run(init)"
   ]
  },
  {
   "cell_type": "code",
   "execution_count": 77,
   "metadata": {
    "scrolled": true
   },
   "outputs": [
    {
     "name": "stdout",
     "output_type": "stream",
     "text": [
      "Epoch: 001 \tcost=0.042806017\n",
      "Epoch: 002 \tcost=0.021435577\n",
      "Epoch: 003 \tcost=0.015999809\n",
      "Epoch: 004 \tcost=0.012058343\n",
      "Epoch: 005 \tcost=0.010411578\n"
     ]
    }
   ],
   "source": [
    "epochs = 5\n",
    "display_step = 1\n",
    "\n",
    "for epoch in range(epochs):\n",
    "    avg_cost = 0\n",
    "    for mini_batch in range(mini_batches):\n",
    "        _, cost = sess.run([train_step, mse], {x: batch_xs[mini_batch], y_: batch_ys[mini_batch], phase: True})\n",
    "        avg_cost += cost/mini_batches \n",
    "    if (epoch+1)%display_step==0:\n",
    "        print(\"Epoch:\", '%03d'%(epoch+1), \"\\tcost={:.9f}\".format(avg_cost))"
   ]
  },
  {
   "cell_type": "markdown",
   "metadata": {},
   "source": [
    "The complex valued speech spectrogram of the test signal can be recovered by: \n",
    "\n",
    "\\begin{equation*}\n",
    "\\hat{S} = \\frac{X_{test}}{|X_{test}|} \\odot \\hat{S}_{test} \n",
    "\\end{equation*}\n",
    "\n",
    "which means that we take the phase information from the input noisy signal and use it to recover the clean speech."
   ]
  },
  {
   "cell_type": "code",
   "execution_count": 78,
   "metadata": {
    "collapsed": true
   },
   "outputs": [],
   "source": [
    "# loading test data in stft domain\n",
    "\n",
    "sn, sr = librosa.load('test_x_01.wav', sr=None)\n",
    "X_test = librosa.stft(sn, n_fft=1024, hop_length=512).T\n",
    "X_test_mod = abs(X_test)\n",
    "\n",
    "# generating clean test signal using trained model and converting back to time domain\n",
    "Sh_test = sess.run(y, feed_dict={x:X_test_mod})\n",
    "Sh = np.multiply(np.divide(X_test, X_test_mod), Sh_test)"
   ]
  },
  {
   "cell_type": "code",
   "execution_count": 79,
   "metadata": {
    "collapsed": true
   },
   "outputs": [],
   "source": [
    "sh_test = librosa.istft(Sh.T, win_length=1024, hop_length=512)\n",
    "librosa.output.write_wav('test_s_01_recons.wav', sh_test, sr)"
   ]
  },
  {
   "cell_type": "code",
   "execution_count": 80,
   "metadata": {
    "collapsed": true
   },
   "outputs": [],
   "source": [
    "sn, sr = librosa.load('test_x_02.wav', sr=None)\n",
    "X_test = librosa.stft(sn, n_fft=1024, hop_length=512).T\n",
    "X_test_mod = abs(X_test)\n",
    "\n",
    "Sh_test = sess.run(y, feed_dict={x:X_test_mod})\n",
    "Sh = np.multiply(np.divide(X_test, X_test_mod), Sh_test)\n",
    "\n",
    "sh_test = librosa.istft(Sh.T, win_length=1024, hop_length=512)\n",
    "librosa.output.write_wav('test_s_02_recons.wav', sh_test, sr)"
   ]
  },
  {
   "cell_type": "code",
   "execution_count": 81,
   "metadata": {
    "collapsed": true
   },
   "outputs": [],
   "source": [
    "sess.close()"
   ]
  }
 ],
 "metadata": {
  "kernelspec": {
   "display_name": "Python 3",
   "language": "python",
   "name": "python3"
  },
  "language_info": {
   "codemirror_mode": {
    "name": "ipython",
    "version": 3
   },
   "file_extension": ".py",
   "mimetype": "text/x-python",
   "name": "python",
   "nbconvert_exporter": "python",
   "pygments_lexer": "ipython3",
   "version": "3.5.3"
  }
 },
 "nbformat": 4,
 "nbformat_minor": 2
}
